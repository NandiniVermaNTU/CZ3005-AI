{
 "cells": [
  {
   "cell_type": "code",
   "execution_count": 41,
   "metadata": {},
   "outputs": [],
   "source": [
    "import json\n",
    "import math\n",
    "import queue as que"
   ]
  },
  {
   "cell_type": "code",
   "execution_count": 42,
   "metadata": {},
   "outputs": [],
   "source": [
    "with open(\".\\JSON files\\Coord(2).json\") as cord:\n",
    "    coords = json.load(cord)\n",
    "with open(\".\\JSON files\\Cost(2).json\") as Cost:\n",
    "    cost = json.load(Cost)\n",
    "with open(\".\\JSON files\\Dist(2).json\") as Dist:\n",
    "    dist = json.load(Dist)\n",
    "with open(\".\\JSON files\\G(2).json\") as G:\n",
    "    graph = json.load(G)"
   ]
  },
  {
   "cell_type": "code",
   "execution_count": 43,
   "metadata": {},
   "outputs": [],
   "source": [
    "# To display the path as specified in the requirements of any path_list which is passed as an argument to it\n",
    "def displayPath(pathList):\n",
    "    for j in range(len(pathList)):\n",
    "        if j == len(pathList) - 1:\n",
    "            print(pathList[i])\n",
    "            break\n",
    "        print(pathList[i]+\" -> \", end=\"\")\n",
    "\n",
    "#  To display the entire accumulated energy cost for any path_list which is passed as an argument to it\n",
    "def calculateCost(path):\n",
    "    pathCost = 0\n",
    "    for j in range(len(path) - 1):\n",
    "        pathCost += cost[(path[j] + \",\" + path[j + 1])]\n",
    "    return pathCost"
   ]
  },
  {
   "cell_type": "code",
   "execution_count": 44,
   "metadata": {},
   "outputs": [],
   "source": [
    "# Implementation of Uniform Cost Search (Greedy Approach) for Task1\n",
    "def UCS(start_node, goal_node):\n",
    "    print(\"Running UCS\")\n",
    "    # PriorityQueue is maintained for sorting the accumulated cost for the current node\n",
    "    priorityQueue = que.PriorityQueue(0)\n",
    "    priorityQueue.put((0, start_node, [start_node]))\n",
    "    visited_nodes = []\n",
    "    min_dist = 10000000 #setting it as a very large number\n",
    "    min_path = [] #stores the optimal path with least total energy cost\n",
    "\n",
    "    while not priorityQueue.empty():\n",
    "\n",
    "        dist_till_current_node, current_node, path = priorityQueue.get()\n",
    "\n",
    "        # If we encounter a current node that is not visited, we explore the node to explore the path\n",
    "        if current_node not in visited_nodes:\n",
    "            # We mark the current node as visited once we explore the path from current node\n",
    "            visited_nodes.append(current_node)\n",
    "            # If we reach the goal node, we check the path and the distance. If the current path has minimum distance, it is saved as minimum path to print after algorithm completion\n",
    "            if current_node == goal_node:\n",
    "                if min_dist >= dist_till_current_node:\n",
    "                    min_path = list(path)\n",
    "                    min_dist = dist_till_current_node\n",
    "                visited_nodes.remove(current_node)\n",
    "            else:\n",
    "                neighbors = graph[current_node]\n",
    "\n",
    "                for neighbor in neighbors:\n",
    "                    # For UCS, the accumulative distance to reach the current node from start node is stored in the priority queue \n",
    "                    neighbor_path = list(path)\n",
    "                    neighbor_path.append(neighbor)\n",
    "                    priorityQueue.put((dist_till_current_node + dist[current_node+\",\"+neighbor], neighbor, neighbor_path))\n",
    "\n",
    "    print(\"Shortest path: \", end=\"\")\n",
    "    display_path(min_path)\n",
    "    print(\"Shortest distance: \", min_dist)\n",
    "    print(\"Total energy cost: \", calculate_cost(min_path))"
   ]
  },
  {
   "cell_type": "markdown",
   "metadata": {},
   "source": [
    "# Task 1: Solving relaxed version of NYC instance with unweighted UCS"
   ]
  },
  {
   "cell_type": "code",
   "execution_count": null,
   "metadata": {},
   "outputs": [
    {
     "name": "stdout",
     "output_type": "stream",
     "text": [
      "Running UCS\n"
     ]
    }
   ],
   "source": [
    "UCS(\"1\", \"50\")"
   ]
  },
  {
   "cell_type": "code",
   "execution_count": null,
   "metadata": {},
   "outputs": [],
   "source": []
  }
 ],
 "metadata": {
  "kernelspec": {
   "display_name": "Python 3",
   "language": "python",
   "name": "python3"
  }
 },
 "nbformat": 4,
 "nbformat_minor": 4
}

{
 "cells": [
  {
   "cell_type": "code",
   "execution_count": 32,
   "metadata": {},
   "outputs": [],
   "source": [
    "import json\n",
    "import math\n",
    "import queue as que"
   ]
  },
  {
   "cell_type": "code",
   "execution_count": 34,
   "metadata": {},
   "outputs": [],
   "source": [
    "with open('./JSON files/Coord(2).json') as cord:\n",
    "    coords = json.load(cord)\n",
    "with open(\"./JSON files/Cost(2).json\") as Cost:\n",
    "    cost = json.load(Cost)\n",
    "with open(\"./JSON files/Dist(2).json\") as Dist:\n",
    "    dist = json.load(Dist)\n",
    "with open(\"./JSON files/G(2).json\") as G:\n",
    "    graph = json.load(G)"
   ]
  },
  {
   "cell_type": "code",
   "execution_count": 35,
   "metadata": {},
   "outputs": [],
   "source": [
    "# To display the path as specified in the requirements of any path_list which is passed as an argument to it\n",
    "def displayPath(pathList):\n",
    "    for j in range(len(pathList)):\n",
    "        if j == len(pathList) - 1:\n",
    "            print(pathList[j])\n",
    "            break\n",
    "        print(pathList[j]+\" -> \", end=\"\")\n",
    "\n",
    "#  To display the entire accumulated energy cost for any path_list which is passed as an argument to it\n",
    "def calculateCost(path):\n",
    "    pathCost = 0\n",
    "    for j in range(len(path) - 1):\n",
    "        pathCost += cost[(path[j] + \",\" + path[j + 1])]\n",
    "    return pathCost"
   ]
  },
  {
   "cell_type": "markdown",
   "metadata": {},
   "source": [
    "# Task 1: Solving relaxed version of NYC instance with unweighted UCS"
   ]
  },
  {
   "cell_type": "code",
   "execution_count": 36,
   "metadata": {},
   "outputs": [],
   "source": [
    "# Implementation of Uniform Cost Search (Greedy Approach) for Task1\n",
    "def UCS(start_node, goal_node):\n",
    "    print(\"Task 1: Running UCS\")\n",
    "    # PriorityQueue is maintained for sorting the accumulated cost for the current node\n",
    "    priorityQueue = que.PriorityQueue(0)\n",
    "    priorityQueue.put((0, start_node, [start_node]))\n",
    "    visited_nodes = []\n",
    "    min_dist = 0\n",
    "    min_path = [] #stores the optimal path with least total energy cost\n",
    "    flag = 0\n",
    "\n",
    "    while (not priorityQueue.empty()):\n",
    "\n",
    "        dist_till_current_node, current_node, path = priorityQueue.get()\n",
    "\n",
    "        # If we encounter a current node that is not visited, we explore the node to explore the path\n",
    "        if current_node not in visited_nodes:\n",
    "            # We mark the current node as visited once we explore the path from current node\n",
    "            visited_nodes.append(current_node)\n",
    "            # If we reach the goal node, we check the path and the distance. If the current path has minimum distance, it is saved as minimum path to print after algorithm completion\n",
    "            if current_node == goal_node:\n",
    "                    min_path = list(path)\n",
    "                    min_dist = dist_till_current_node\n",
    "                    flag = 1\n",
    "                    break\n",
    "            else:\n",
    "                for neighbor in graph[current_node]:\n",
    "                    # For UCS, the accumulative distance to reach the current node from start node is stored in the priority queue \n",
    "                    neighbor_path = list(path)\n",
    "                    neighbor_path.append(neighbor)\n",
    "                    priorityQueue.put((dist_till_current_node + dist[current_node+\",\"+neighbor], neighbor, neighbor_path))\n",
    "    \n",
    "    if(not flag):\n",
    "        print(\"\\nShortest path not found\")\n",
    "\n",
    "    print(\"\\nShortest path: \\n\\n\", end=\"\")\n",
    "    displayPath(min_path)\n",
    "    print(\"\\nShortest distance: \", min_dist)\n",
    "    print(\"\\nTotal energy cost: \", calculateCost(min_path))\n",
    "    print(\"\\n\")"
   ]
  },
  {
   "cell_type": "code",
   "execution_count": 37,
   "metadata": {},
   "outputs": [
    {
     "name": "stdout",
     "output_type": "stream",
     "text": [
      "Task 1: Running UCS\n",
      "\n",
      "Shortest path: \n",
      "\n",
      "1 -> 1363 -> 1358 -> 1357 -> 1356 -> 1276 -> 1273 -> 1277 -> 1269 -> 1267 -> 1268 -> 1284 -> 1283 -> 1282 -> 1255 -> 1253 -> 1260 -> 1259 -> 1249 -> 1246 -> 963 -> 964 -> 962 -> 1002 -> 952 -> 1000 -> 998 -> 994 -> 995 -> 996 -> 987 -> 986 -> 979 -> 980 -> 969 -> 977 -> 989 -> 990 -> 991 -> 2369 -> 2366 -> 2340 -> 2338 -> 2339 -> 2333 -> 2334 -> 2329 -> 2029 -> 2027 -> 2019 -> 2022 -> 2000 -> 1996 -> 1997 -> 1993 -> 1992 -> 1989 -> 1984 -> 2001 -> 1900 -> 1875 -> 1874 -> 1965 -> 1963 -> 1964 -> 1923 -> 1944 -> 1945 -> 1938 -> 1937 -> 1939 -> 1935 -> 1931 -> 1934 -> 1673 -> 1675 -> 1674 -> 1837 -> 1671 -> 1828 -> 1825 -> 1817 -> 1815 -> 1634 -> 1814 -> 1813 -> 1632 -> 1631 -> 1742 -> 1741 -> 1740 -> 1739 -> 1591 -> 1689 -> 1585 -> 1584 -> 1688 -> 1579 -> 1679 -> 1677 -> 104 -> 5680 -> 5418 -> 5431 -> 5425 -> 5424 -> 5422 -> 5413 -> 5412 -> 5411 -> 66 -> 5392 -> 5391 -> 5388 -> 5291 -> 5278 -> 5289 -> 5290 -> 5283 -> 5284 -> 5280 -> 50\n",
      "\n",
      "Shortest distance:  148648.63722140007\n",
      "\n",
      "Total energy cost:  294853\n",
      "\n",
      "\n",
      "CPU times: user 640 ms, sys: 3.39 ms, total: 644 ms\n",
      "Wall time: 642 ms\n"
     ]
    }
   ],
   "source": [
    "%%time\n",
    "UCS(\"1\", \"50\")"
   ]
  },
  {
   "cell_type": "markdown",
   "metadata": {},
   "source": [
    "# Task 2: Uninformed Search Algorithm to solve the NYC Instance"
   ]
  },
  {
   "cell_type": "code",
   "execution_count": 38,
   "metadata": {},
   "outputs": [],
   "source": [
    "# Implementation of Uniform Cost Search for Task 2\n",
    "def UCS_Task2(start_node, goal_node, budget: int):\n",
    "    print(\"Task 2: Running UCS\")\n",
    "    # PriorityQueue is maintained for sorting the accumulated cost for the current node\n",
    "    priorityQueue = que.PriorityQueue(0)\n",
    "    priorityQueue.put((0, 0, start_node, [start_node]))\n",
    "    visited_nodes = []\n",
    "    min_dist = 0\n",
    "    min_path = [] #stores the optimal path with least total energy cost\n",
    "    flag = 0\n",
    "\n",
    "    while (not priorityQueue.empty()):\n",
    "\n",
    "        energy_req, dist_till_current_node, current_node, path = priorityQueue.get()\n",
    "\n",
    "        # If we encounter a current node that is not visited, we explore the node to explore the path\n",
    "        if current_node not in visited_nodes:\n",
    "            # We mark the current node as visited once we explore the path from current node\n",
    "            visited_nodes.append(current_node)\n",
    "            # If we reach the goal node, we check the path and the distance. If the current path has minimum distance, it is saved as minimum path to print after algorithm completion\n",
    "            if current_node == goal_node:\n",
    "                    min_path = list(path)\n",
    "                    min_dist = dist_till_current_node\n",
    "                    path_cost = calculateCost(min_path)\n",
    "                    flag = 1\n",
    "                    break\n",
    "            else:\n",
    "                for neighbor in graph[current_node]:\n",
    "                    new_energy = energy_req + cost[f\"{current_node},{neighbor}\"] # calculating energy req. from current node to neighbour\n",
    "                    \n",
    "                    # take this path if new_energy is within budget\n",
    "                    if new_energy <= budget:\n",
    "                        neighbor_path = list(path)\n",
    "                        neighbor_path.append(neighbor)\n",
    "                        priorityQueue.put((new_energy, dist_till_current_node + dist[current_node+\",\"+neighbor], neighbor, neighbor_path))\n",
    "    \n",
    "    if(not flag):\n",
    "        print(\"\\nShortest path not found\")\n",
    "\n",
    "    print(\"\\nShortest path: \\n\\n\", end=\"\")\n",
    "    displayPath(min_path)\n",
    "    print(\"\\nShortest distance: \", min_dist)\n",
    "    print(\"\\nTotal energy cost: \", calculateCost(min_path))\n",
    "    print(\"\\n\")"
   ]
  },
  {
   "cell_type": "code",
   "execution_count": 39,
   "metadata": {},
   "outputs": [
    {
     "name": "stdout",
     "output_type": "stream",
     "text": [
      "Task 2: Running UCS\n",
      "\n",
      "Shortest path: \n",
      "\n",
      "1 -> 1363 -> 1358 -> 1357 -> 1356 -> 1276 -> 1273 -> 1277 -> 1269 -> 1241 -> 1240 -> 1235 -> 956 -> 953 -> 955 -> 957 -> 958 -> 959 -> 960 -> 962 -> 1002 -> 952 -> 1000 -> 998 -> 994 -> 995 -> 996 -> 997 -> 1011 -> 6380 -> 1020 -> 1019 -> 1323 -> 2935 -> 2936 -> 2941 -> 2942 -> 2949 -> 2951 -> 2967 -> 2968 -> 2966 -> 1539 -> 1538 -> 3004 -> 3008 -> 3056 -> 3057 -> 3058 -> 3059 -> 3060 -> 3062 -> 3042 -> 3043 -> 2658 -> 2650 -> 2651 -> 2635 -> 2574 -> 2568 -> 2453 -> 2452 -> 2451 -> 2447 -> 2446 -> 6372 -> 6371 -> 2410 -> 2399 -> 2418 -> 2143 -> 2144 -> 2139 -> 2131 -> 2130 -> 2129 -> 2087 -> 2081 -> 2073 -> 2075 -> 2164 -> 2163 -> 2162 -> 2159 -> 2158 -> 2160 -> 71 -> 61 -> 60 -> 1851 -> 1847 -> 1846 -> 1824 -> 1797 -> 1787 -> 1775 -> 1761 -> 5526 -> 5524 -> 5523 -> 5519 -> 5518 -> 5516 -> 5504 -> 5501 -> 5500 -> 5502 -> 5438 -> 5398 -> 5404 -> 5402 -> 5396 -> 5395 -> 5292 -> 5282 -> 5283 -> 5284 -> 5280 -> 50\n",
      "\n",
      "Shortest distance:  180253.5108965278\n",
      "\n",
      "Total energy cost:  225102\n",
      "\n",
      "\n",
      "CPU times: user 618 ms, sys: 3.73 ms, total: 622 ms\n",
      "Wall time: 620 ms\n"
     ]
    }
   ],
   "source": [
    "%%time\n",
    "UCS_Task2(\"1\",\"50\",287932)"
   ]
  },
  {
   "cell_type": "code",
   "execution_count": null,
   "metadata": {},
   "outputs": [],
   "source": []
  }
 ],
 "metadata": {
  "kernelspec": {
   "display_name": "Python 3",
   "language": "python",
   "name": "python3"
  },
  "language_info": {
   "codemirror_mode": {
    "name": "ipython",
    "version": 3
   },
   "file_extension": ".py",
   "mimetype": "text/x-python",
   "name": "python",
   "nbconvert_exporter": "python",
   "pygments_lexer": "ipython3",
   "version": "3.8.5"
  }
 },
 "nbformat": 4,
 "nbformat_minor": 4
}
